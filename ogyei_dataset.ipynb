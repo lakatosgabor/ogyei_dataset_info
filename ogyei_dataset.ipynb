{
  "nbformat": 4,
  "nbformat_minor": 0,
  "metadata": {
    "colab": {
      "provenance": [],
      "mount_file_id": "1SgBTrBivkvXoEfa16JHtnn7Sl2rKCPeA",
      "authorship_tag": "ABX9TyPPZMLMieVYzSVWZyF9JjCO",
      "include_colab_link": true
    },
    "kernelspec": {
      "name": "python3",
      "display_name": "Python 3"
    },
    "language_info": {
      "name": "python"
    }
  },
  "cells": [
    {
      "cell_type": "markdown",
      "metadata": {
        "id": "view-in-github",
        "colab_type": "text"
      },
      "source": [
        "<a href=\"https://colab.research.google.com/github/lakatosgabor/ogyei_dataset_info/blob/main/ogyei_dataset.ipynb\" target=\"_parent\"><img src=\"https://colab.research.google.com/assets/colab-badge.svg\" alt=\"Open In Colab\"/></a>"
      ]
    },
    {
      "cell_type": "code",
      "source": [
        "!pip install transformers torch"
      ],
      "metadata": {
        "id": "VHoZYNNhRV57"
      },
      "execution_count": null,
      "outputs": []
    },
    {
      "cell_type": "code",
      "source": [
        "import torch\n",
        "from transformers import AutoTokenizer, AutoModel\n",
        "import numpy as np\n",
        "import matplotlib.pyplot as plt\n",
        "import csv\n",
        "import unicodedata\n",
        "import seaborn as sns\n",
        "from collections import Counter\n",
        "import numpy as np"
      ],
      "metadata": {
        "id": "E4CUyTZKRQx-"
      },
      "execution_count": null,
      "outputs": []
    },
    {
      "cell_type": "code",
      "execution_count": null,
      "metadata": {
        "id": "rTKh6OZBwLgj"
      },
      "outputs": [],
      "source": [
        "# Fájl elérési útja\n",
        "file_path = '/content/drive/MyDrive/Colab Notebooks/ogyei/full_sentence_csv_prob.csv'\n",
        "def remove_accents(input_string):\n",
        "    normalized_string = unicodedata.normalize('NFD', input_string)\n",
        "    stripped_string = ''.join(c for c in normalized_string if unicodedata.category(c) != 'Mn')\n",
        "    return stripped_string\n",
        "\n",
        "ogyei_description = []\n",
        "# CSV fájl beolvasása és tartalmának kiírása\n",
        "with open(file_path, 'r', encoding='utf-8') as file:\n",
        "    # CSV fájl olvasása, a \",\" karakterrel elválasztva\n",
        "    csv_reader = csv.reader(file, delimiter='\"')\n",
        "\n",
        "    string_len = []\n",
        "    counter = 0\n",
        "    # Sorok beolvasása és kiíratása\n",
        "    for row in csv_reader:\n",
        "      counter += 1\n",
        "      print(counter)\n",
        "      filename = remove_accents(row[0].replace(\"\\t\", \"\")).replace(\",\", \"\").replace(\" \", \"_\").replace(\"-\", \"_\").replace(\"/\", \"_\") + \".jpg\"\n",
        "      print(filename)\n",
        "\n",
        "      desc = row[1].replace(\"\\t\", \"\").replace(\":\", \"\")\n",
        "      print(desc)\n",
        "      print(\"\\n\")\n",
        "\n",
        "      ogyei_description.append(desc)\n",
        "\n",
        "      string_len.append(len(desc))\n"
      ]
    },
    {
      "cell_type": "code",
      "source": [
        "average_value = np.mean(string_len)\n",
        "min_value = np.min(string_len)\n",
        "max_value = np.max(string_len)\n",
        "\n",
        "print(\"Gyógyszer leírások hossza növekvő sorrendben: \")\n",
        "print(np.sort(string_len))\n",
        "print(\"Minimum: \", min_value)\n",
        "print(\"Maximum: \", max_value)\n",
        "print(\"Átlag: \", average_value)\n",
        "\n",
        "# Különbségek négyzetre emelése és átlagának számítása\n",
        "squared_diff = sum((x - average_value) ** 2 for x in string_len) / len(string_len)\n",
        "\n",
        "# Szórás kiszámítása (négyzetgyök)\n",
        "standard_deviation = np.sqrt(squared_diff)\n",
        "\n",
        "print(\"A szórás értéke:\", standard_deviation)\n",
        "\n",
        "\n",
        "n, bins, patches = plt.hist(string_len, bins=20, edgecolor='black')\n",
        "plt.title('Adatok eloszlása')\n",
        "plt.xlabel('Értéktartomány')\n",
        "plt.ylabel('Darabszám')\n",
        "\n",
        "# Értékek kiírása az oszlopokra\n",
        "for i in range(len(patches)):\n",
        "    plt.text(patches[i].get_x() + patches[i].get_width() / 2, patches[i].get_height() + 0.1, str(int(n[i])), ha='center')\n",
        "\n",
        "\n",
        "# Egyenes rajzolása az átlaghoz\n",
        "plt.axvline(x=average_value, color='red', linestyle='dashed', linewidth=2, label=f'Átlag: {average_value:.2f}')\n",
        "plt.axvline(x=min_value, color='green', linestyle='dashed', linewidth=2, label=f'Min: {min_value:.2f}')\n",
        "plt.axvline(x=max_value, color='yellow', linestyle='dashed', linewidth=2, label=f'Max: {max_value:.2f}')\n",
        "\n",
        "plt.legend()\n",
        "\n",
        "plt.show()"
      ],
      "metadata": {
        "colab": {
          "base_uri": "https://localhost:8080/",
          "height": 682
        },
        "id": "iCfyGH0mol8s",
        "outputId": "10c8f653-f41b-46a2-c999-b32c860feb64"
      },
      "execution_count": null,
      "outputs": [
        {
          "output_type": "stream",
          "name": "stdout",
          "text": [
            "Gyógyszer leírások hossza növekvő sorrendben: \n",
            "[ 53  54  56  60  61  64  67  68  69  71  71  73  73  74  75  75  75  77\n",
            "  77  79  81  82  83  83  84  86  86  87  87  87  87  89  89  91  92  93\n",
            "  94  95  97  97 106 106 109 111 111 112 112 114 116 116 117 117 118 119\n",
            " 127 129 129 130 130 131 131 132 132 132 136 136 137 138 141 143 143 143\n",
            " 144 149 150 153 153 154 155 160 161 161 165 169 169 172 172 177 181 181\n",
            " 183 186 187 189 190 192 192 192 194 196 201 203 205 208 208 209 214 216\n",
            " 220 236 279 286]\n",
            "Minimum:  53\n",
            "Maximum:  286\n",
            "Átlag:  130.875\n",
            "A szórás értéke: 50.77280012115599\n"
          ]
        },
        {
          "output_type": "display_data",
          "data": {
            "text/plain": [
              "<Figure size 640x480 with 1 Axes>"
            ],
            "image/png": "[encoded data removed]"
          },
          "metadata": {}
        }
      ]
    },
    {
      "cell_type": "code",
      "source": [
        "\n",
        "# Box plot készítése\n",
        "\n",
        "q1 = np.percentile(string_len, 25)\n",
        "q3 = np.percentile(string_len, 75)\n",
        "median = np.median(string_len)\n",
        "\n",
        "\n",
        "plt.figure(figsize=(8, 6))\n",
        "plt.boxplot(string_len, vert=False, showfliers=False)  # Elrejtjük az outlier értékeket az ábrán\n",
        "plt.title('Box Plot')\n",
        "plt.xlabel('Érték')\n",
        "plt.grid(True)\n",
        "\n",
        "# Hozzáadjuk a kvartilis értékeket az ábrához\n",
        "plt.text(q1, 1.1, f'Q1: {q1}', va='center', color='r')\n",
        "plt.text(q3, 1.1, f'Q3: {q3}', va='center', color='r')\n",
        "plt.text(median, 1.2, f'Median: {median}', va='center', color='b')\n",
        "plt.text(min_value, 1.1, f'Min: {min_value}', va='center', color='g')\n",
        "plt.text(max_value, 1.1, f'Max: {max_value}', va='center', color='g')\n",
        "\n",
        "plt.legend()\n",
        "plt.show()\n",
        ""
      ],
      "metadata": {
        "id": "Rlf4x0N_kWk_"
      },
      "execution_count": null,
      "outputs": []
    }
  ]
}